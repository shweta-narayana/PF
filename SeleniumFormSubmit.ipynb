from selenium import webdriver
from selenium.webdriver.common.keys import Keys
from selenium.webdriver.common.by import By
from selenium.webdriver.support.ui import Select
import time
driver=webdriver.Firefox()
#wait for 1 second before any action
driver.implicitly_wait(1)
driver.get('https://testpages.herokuapp.com/styled/basic-html-form-test.html')

#add username and password and commenst to the text fields
driver.find_element(By.NAME,'username').send_keys('name')
driver.find_element(By.NAME,'password').send_keys('pword')
driver.find_element(By.NAME,'comments').clear()
driver.find_element(By.NAME,'comments').send_keys('this is some dummy data')

#select various options 
sel=Select(driver.find_element(By.NAME,'multipleselect[]'))
drop=Select(driver.find_element(By.NAME,'dropdown'))
for i in range(len(sel.options)):
    sel.select_by_index(i)
    for j in range(len(drop.options)):
        drop.select_by_index(j)
    sel.deselect_by_index(i) 


#checkboxes
#A= driver.find_element(By.XPATH,'/html/body/div/div[3]/form/table/tbody/tr[5]/td/input[1]')
a= driver.find_element(By.XPATH,'//*/tbody/tr[5]/td/input[1]')
a.click()
#deslect checkbox 3
c= driver.find_element(By.XPATH,'//*/tbody/tr[5]/td/input[3]')
if c.is_selected()==True:
    c.click()

#click radio button 3
driver.find_element(By.XPATH,'//*/tbody/tr[6]/td/input[3]').click()

#upload file
# driver.find_element(By.NAME,'filename').send_keys('file://C:/Users/shwetnar/Desktop/dum.txt')
# driver.find_element(By.NAME,'filename').click()

#submit
driver.find_element(By.XPATH,'//*/tbody/tr[9]/td/input[2]').click()

time.sleep(10)
driver.close()
