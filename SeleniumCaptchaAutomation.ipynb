#france visa appointment website uses a captcha to enter and search for visa appointment slots. the captcha can be spoken ; this spoken audio is captured , transcribed and entered into the box
from selenium import webdriver
from selenium.webdriver.common.by import By
from selenium.webdriver.common.keys import Keys
import time
import sounddevice as sd
from scipy.io import wavfile
import speech_recognition as sr
import soundfile as sf
from selenium.webdriver.support.ui import WebDriverWait
from selenium.webdriver.support import expected_conditions as EC
import winsound

for i in range(3):
#    winsound.PlaySound('click.wav', winsound.SND_ASYNC) 
    driver=webdriver.Firefox()
    driver.get('https://consulat.gouv.fr/en/ambassade-de-france-en-irlande/appointment?name=Visas')
    box= driver.find_element(By.XPATH, '/html/body/div[1]/div/div/main/div[2]/div/div/div/div/div[2]/div/div/div/div/div[2]/input')
    submit=driver.find_element(By.XPATH, '/html/body/div[1]/div/div/main/div[2]/div/div/div/div/div[3]/button')

    #to record the speaker output as a wav file
    sd.default.device[0] = 2 # this is the device where sound mix is enabled
    fs = 44100 # Hz
    length = 15 # seconds
    
    #click sound button 
    WebDriverWait(driver, 15).until(EC.element_to_be_clickable((By.XPATH, '/html/body/div[1]/div/div/main/div[2]/div/div/div/div/div[2]/div/div/div/div/div[1]/div/button[2]'))).click()
    
    recording = sd.rec(frames=fs * length, samplerate=fs, blocking=True, channels=1)
    sd.wait()
    wavfile.write('test.wav', fs, recording)

    #convert the encoding of the wave file to pcm
    data, samplerate = sf.read('test.wav')
    sf.write('test.wav', data, samplerate, subtype='PCM_16')

    #read the wav file and transcribe it
    file=sr.AudioFile('test.wav')
    with file as source:
        audio = r.record(source)
    r = sr.Recognizer()
    
    try:
        r.recognize_google(audio)
    except:
        time.sleep(10)
        driver.close()
    else:
        text=r.recognize_google(audio)
        #print(text)
        trimmed=text.replace(" ", "")
        print(trimmed)

        #input the transcribed data into text box
        box.send_keys(trimmed)
        submit.click()
