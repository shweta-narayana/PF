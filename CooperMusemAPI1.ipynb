#cooper api token 459f879ab80c474aceec41ee00684675
import requests
import json

url='https://api.collection.cooperhewitt.org/rest/?method=cooperhewitt.departments.getList&access_token=459f879ab80c474aceec41ee00684675'
response=requests.get(url)
input=json.loads(response.content)
deptlist=input['departments']

for i in deptlist:
    print('The',i['name'],'department has', i['count_objects'],'objects.')
