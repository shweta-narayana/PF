#webscraper to extract the sanskrit story from sanskrit.inria.fr

import requests
import lxml
from bs4 import BeautifulSoup

#create list of urls from links on ths main page
url='https://sanskrit.inria.fr/cgi-bin/SKT/sktcorpus.cgi?corpdir=KathA%2FVikramacarita%2F24&corpmode=reader'
response=requests.get(url)
soup=BeautifulSoup(response.text,'lxml')
data=soup.find_all(class_='trans16')
urls=[]
for i in data:
    urls.append('https://sanskrit.inria.fr'+i.a['href'])

#print(urls)

#from each page extract the devanagari script
devtext=[]
for i in urls:    
    response=requests.get(i)
    soup=BeautifulSoup(response.text,'lxml')
    text=soup.find(class_='deva16')
    devtext.append(text.text)

#print(devtext)

#print to text file
f= open('sans.txt','w',encoding='utf-8')
for i in devtext:
    f.write(i)
    f.write('|\n')
f.close()
