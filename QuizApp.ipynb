#to execute, use greeting()
global totscore, name
totscore =int(0)
name=str('a')

def greeting():
    #start, get name of user and route to options
    global name
    name=input('what is your name')
    print('Hi!',name,'.')
    menudisplay()

def menudisplay():
    #display the options and route to function based on option selected. control error handling of selection
    print('*'*20,'\n','Select one option from below.\n1. Repeat the menu \n2. Exit \n3. See your total score \n4. Biology Quiz')
    inp=input('Enter the number corresponding to your choice ')
    
    try :
        int(inp) 
    except:
        menudisplay()
    else:
        
        choice=int(inp)
        if choice not in [1,2,3,4]:
            print('\nRepeating.')
            menudisplay()
        elif choice==1:
            print('\nOK.Repeating.')
            menudisplay()
        elif choice==2:
            end()
        elif choice==3:
            totalscore(0)
        else:
            qselect(choice)        


def end():
    #to quit the app
    global name
    print('\nThanks for using this Quiz app',name,'\nSee you soon.')
    quit()

    
def qselect(x):
    #BioQuiz={Q:[[options],[ans],correct]} BQ[question][2]
    #identify a dictionary of questions depending on user selection and invoke the quiz function for this dictionary
    bio={'What is the basic, catch-all term for a living thing?' : [['A.','B.','C.','D.'], ['Animal', 'Cell', 'Organism', 'Zootope'],'C'],
        'What is the practice, or system, of classifying organisms called?' : [['A.','B.','C.','D.'],['Bioinformatics', 'Classification', 'Matter science', 'Taxonomy'],'D'],
         '''An organism's scientific name is made up of its what?''':[['A.','B.','C.','D.'],['Kingdom and phylum','Genus and species','Family and genus','Latin name and common name'],'B']
            
        }
    chem={}
    if x==4:
        print('Start the Biology Quiz......')
        print('-'*100)
        quizfunc(bio)
    elif x==5:
        print('Start the Chemistry Quiz.....')
        print('-'*100)
        quizfunc(chem)

def quizfunc(quiz):
    #run through the correct qs and answers as per the provided dictionary and calculate the score
    score=0
    for i in quiz.keys():
        print(i)
        for n in range(0,len(quiz[i][0])):
            print(quiz[i][0][n],quiz[i][1][n])
        ans=input('Select A,B,C or D ')
        if ans.upper()==quiz[i][2]:
            print('Very good!!')
            score+=1
    print('Your score in this quiz is',score,'points out of a maximum of',len(quiz),'points.')
    print('.....returning to main menu')
    totalscore(score)

def totalscore(x):
    #calculate running total in quiz
    global totscore,name
    totscore=totscore+x
    print(name,', your overallscore in this quiz is',totscore)
    menudisplay()
