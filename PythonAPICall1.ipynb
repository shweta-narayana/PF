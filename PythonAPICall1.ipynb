#hit the techy API for a new phrase each time

import requests
import json
import time
sentence=[]
start=time.time()
for i in range(0,7):
    url='https://techy-api.vercel.app/api/json'
    response=requests.get(url)
    #create a dictioneary of the response's JSON content
    input=json.loads(response.content)
    #extract only the sentence portion into a list
    sentence.append((input['message']))
    time.sleep(1)
print(sentence)
print(f'this took {time.time()-start} seconds')
