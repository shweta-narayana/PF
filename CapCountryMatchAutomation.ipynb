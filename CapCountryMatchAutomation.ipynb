#selenium automation to drag and drop capitals to matching countries
import requests
import lxml
from bs4 import BeautifulSoup
from selenium import webdriver
from selenium.webdriver.common.action_chains import ActionChains
from selenium.webdriver.common.by import By

url='http://dhtmlgoodies.com/scripts/drag-drop-custom/demo-drag-drop-3.html'

#read the html
response=requests.get(url)
soup=BeautifulSoup(response.text,'lxml')

#make a list of capitals
ids=[]
cap=soup.find_all('div',class_='dragableBox')
for i in cap:
    ids.append(i['id'])
#print(ids)    

#make a list of matching countries 
match=[]
for i in ids:
    match.append('box10'+i[3:])
#print(match)

#make a list of xpath ids
capitals=[]
matches=[]
for i in range(0,len(ids)):
    capitals.append('//*[@id="'+ids[i]+'"]')
    matches.append('//*[@id="'+match[i]+'"]')
#print(capitals)
#print(matches)
    
driver=webdriver.Firefox()
driver.maximize_window()
driver.get('http://dhtmlgoodies.com/scripts/drag-drop-custom/demo-drag-drop-3.html')

#lopp through and match the capitals to countries
for i in range(0,len(ids)):
    source=driver.find_element(By.XPATH,capitals[i])
    dest=driver.find_element(By.XPATH,matches[i])
    actions=ActionChains(driver)
    actions.drag_and_drop(source,dest).perform()
